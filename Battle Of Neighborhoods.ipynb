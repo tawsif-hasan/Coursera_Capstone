{
 "cells": [
  {
   "cell_type": "markdown",
   "metadata": {},
   "source": [
    "<h1 align=\"center\"><font color=\"Red\"> BATTLE OF NEIGHBOURHOODS </font></h1>\n",
    "<b>Mohammad Tawsif Hasan</b>"
   ]
  },
  {
   "cell_type": "markdown",
   "metadata": {},
   "source": [
    "<pre><b><font color=\"Blue\">Background:</font></b>\n",
    "    New York City (NYC), often called simply New York (NY), is the most populous city in the United States. With an estimated 2019 population of 8,336,817 distributed over about 302.6 square miles (784 km2), New York is also the most densely populated major city in the United States.\n",
    "      The cuisine of New York City comprises many cuisines belonging to various ethnic groups that have entered the United States through the city. Almost all ethnic cuisines are well represented in New York City, both within and outside the various ethnic neighborhoods. </pre>"
   ]
  },
  {
   "cell_type": "markdown",
   "metadata": {},
   "source": [
    "<pre><font color=\"Blue\"> Problem:</font>\n",
    "Undoubtedly, Food Diversity is an important part of an ethnically diverse metropolis. The idea of this project is to categorically segment the neighborhoods of New York City into major clusters and examine their cuisines. A desirable intention is to examine the neighborhood cluster’s food habits and taste. Further examination might reveal if food has any relationship with the diversity of a neighborhood. This project will help to understand the diversity of a neighborhood by leveraging venue data from Foursquare’s ‘Places API’ and ‘k-means clustering’ unsupervised machine learning algorithm. Exploratory Data Analysis (EDA) will help to discover further about the culture and diversity of the neighborhood.This quantifiable analysis can be used to understand the distribution of different cultures and cuisines over ‘the most diverse city on the planet — New York City’. Also, it can be utilized by a new food vendor who is willing to open his or her restaurant. Or by a government authority to examine and study their city’s culture diversity better.</pre>"
   ]
  },
  {
   "cell_type": "markdown",
   "metadata": {},
   "source": [
    "<pre><font color=\"Blue\">Data:</font>\n",
    "<a href=\"https://geo.nyu.edu/catalog/nyu_2451_34572\">Link: https://geo.nyu.edu/catalog/nyu_2451_34572</a>\n",
    "This New York City Neighborhood Names point file was created as a guide to New York City’s neighborhoods that appear on the web resource, ‘New York: A City of Neighborhoods.Foursquare API, a location data provider, will be used to make RESTful API calls to retrieve data about venues in different neighborhoods </pre>"
   ]
  },
  {
   "cell_type": "markdown",
   "metadata": {},
   "source": [
    "<pre><font color=\"Blue\">Methodology</font>\n",
    "Download and Explore New York City Dataset\n",
    "In order to segment the neighborhoods of New York City, a dataset is required that contains the 5 boroughs and the neighborhoods, that exist in each borough, with respective latitude and longitude coordinates. This dataset is downloaded using the mentioned URL.\n",
    "Once the .json file is downloaded, it is analyzed to understand the structure of the file. A python dictionary is returned by the URL and all the relevant data is found to be in the features key, which is basically a list of the neighborhoods. The dictionary is transformed, into a pandas dataframe, by looping through the data and filling the dataframe rows one at a time.\n",
    "As a result, a dataframe is created with Borough, Neighborhood, Latitude and Longitude details of the New York City’s neighborhood.\n",
    "Upon analysis, it is found that the dataframe consists of 5 boroughs and 306 neighborhoods.\n",
    "Further, ‘geopy’ library is used to get the latitude and longitude values of New York City, which was returned to be Latitude: 40.71, Longitude: -74.01.\n",
    "The curated dataframe is then used to visualize by creating a map of New York City with neighborhoods superimposed on top. The following depiction is a map generated using python ‘folium’ library.\n",
    "As of now, two python ‘dataframe’ are created:\n",
    "1. ‘neighborhoods’ which contains the Borough, Neighborhood, Latitude and Longitude details of the New York City’s neighborhood, and\n",
    "2. ‘nyc_venues’ which is a merger between ‘neighborhoods’ dataframe and its ‘Food’ category venues searched with ‘Radius’ = 500 meters and ‘Limit’ = 100. Also, each venue has its own Latitude, Longitude and Category.\n",
    "</pre>\n"
   ]
  },
  {
   "cell_type": "markdown",
   "metadata": {},
   "source": [
    "The merged dataframe ‘nyc_venues’ has all the required information. The size of this dataframe is determined, and it is found that there is a total of 14,047 venues."
   ]
  },
  {
   "cell_type": "markdown",
   "metadata": {},
   "source": [
    "<pre><font color=\"Blue\">Data Visualization</font>\n",
    "These top 10 categories are further plotted individually on bar graph using python ‘seaborn’ library. A code block is created which loops and plots the graph of top 10 neighborhoods for a category. </pre>"
   ]
  },
  {
   "cell_type": "markdown",
   "metadata": {},
   "source": [
    "<img src=\"cuisine_image.png\">"
   ]
  },
  {
   "cell_type": "markdown",
   "metadata": {},
   "source": [
    "<img src=\"income_restaurants.png\">"
   ]
  },
  {
   "cell_type": "markdown",
   "metadata": {},
   "source": [
    "<pre><font color=\"Blue\">Conclusion</font>\n",
    "One application of Clustering Algorithm, k-Means or others, to a multi-dimensional dataset, a very inquisitive result can be curated which helps to understand and visualize the data. The neighborhoods of New York City were very briefly segmented into eight clusters and upon analysis, it was possible to rename them basis upon the categories of venues in and around that neighborhood. Along with American cuisine, Italian and Chinese are very dominant in New York City and so is the diversity statistics.\n",
    "The results of this project can be improved and made more inquisitive by using a current New York City’s dataset along with API platforms which are more interested in Food Venues (like Yelp, etc.) The scope of this project can be expanded further to understand the dynamics of each neighborhood and suggest a new vendor a profitable location to open his or her food place. Also, a government authority can utilize it to examine and study their city’s culture diversity better.</pre>"
   ]
  },
  {
   "cell_type": "markdown",
   "metadata": {},
   "source": [
    "<pre>References:\n",
    "Notebook created by Alex Aklson and Polong Lin for the ‘Applied Data Science Capstone’ course on Coursera\n",
    "Exploring the Taste of NYC Neighborhoods by Eklavya Saxena</pre>"
   ]
  },
  {
   "cell_type": "code",
   "execution_count": null,
   "metadata": {},
   "outputs": [],
   "source": []
  }
 ],
 "metadata": {
  "kernelspec": {
   "display_name": "Python",
   "language": "python",
   "name": "conda-env-python-py"
  },
  "language_info": {
   "codemirror_mode": {
    "name": "ipython",
    "version": 3
   },
   "file_extension": ".py",
   "mimetype": "text/x-python",
   "name": "python",
   "nbconvert_exporter": "python",
   "pygments_lexer": "ipython3",
   "version": "3.6.10"
  }
 },
 "nbformat": 4,
 "nbformat_minor": 4
}
